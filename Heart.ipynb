{
 "cells": [
  {
   "cell_type": "code",
   "execution_count": 1,
   "id": "094d479c",
   "metadata": {},
   "outputs": [],
   "source": [
    "from pgmpy.models import BayesianModel\n",
    "from pgmpy.factors.discrete import TabularCPD\n",
    "from pgmpy.inference import VariableElimination"
   ]
  },
  {
   "cell_type": "code",
   "execution_count": 21,
   "id": "4b8cea4b",
   "metadata": {},
   "outputs": [
    {
     "name": "stdout",
     "output_type": "stream",
     "text": [
      "Bayesian network models are :\n",
      "\t ['age', 'heartdisease', 'cp', 'restecg', 'chol']\n",
      "Bayesian edges are:\n",
      "\t [('age', 'heartdisease'), ('heartdisease', 'restecg'), ('heartdisease', 'chol'), ('cp', 'heartdisease')]\n"
     ]
    }
   ],
   "source": [
    "cancer_model=BayesianModel([('age','heartdisease'),('cp','heartdisease'),('heartdisease',\n",
    "'restecg'),('heartdisease','chol')])\n",
    "print('Bayesian network models are :')\n",
    "print('\\t',cancer_model.nodes())\n",
    "print('Bayesian edges are:')\n",
    "print('\\t',cancer_model.edges())"
   ]
  },
  {
   "cell_type": "code",
   "execution_count": 37,
   "id": "e6abc183",
   "metadata": {},
   "outputs": [],
   "source": [
    "cpd_poll = TabularCPD(variable='age', variable_card=2,\n",
    "                      values=[[0.9], [0.1]])\n",
    "cpd_smoke = TabularCPD(variable='cp', variable_card=2,\n",
    "                       values=[[0.7], [0.3]])\n",
    "cpd_cancer = TabularCPD(variable='heartdisease', variable_card=2,\n",
    "                        values=[[0.80, 0.05, 0.70, 0.02],\n",
    "                                [0.20, 0.95, 0.30, 0.98]],\n",
    "                        evidence=['age', 'cp'],\n",
    "                        evidence_card=[2, 2])\n",
    "cpd_xray = TabularCPD(variable='restecg', variable_card=2,\n",
    "                      values=[[0.9, 0.2], [0.1, 0.8]],\n",
    "                      evidence=['heartdisease'], evidence_card=[2])\n",
    "cpd_dysp = TabularCPD(variable='chol', variable_card=2,\n",
    "                      values=[[0.65, 0.3], [0.35, 0.7]],\n",
    "                      evidence=['heartdisease'], evidence_card=[2])"
   ]
  },
  {
   "cell_type": "code",
   "execution_count": 38,
   "id": "e4a13a05",
   "metadata": {},
   "outputs": [
    {
     "data": {
      "text/plain": [
       "True"
      ]
     },
     "execution_count": 38,
     "metadata": {},
     "output_type": "execute_result"
    }
   ],
   "source": [
    "# Associating the parameters with the model structure.\n",
    "cancer_model.add_cpds(cpd_poll, cpd_smoke, cpd_cancer, cpd_xray, cpd_dysp)\n",
    "\n",
    "# Checking if the cpds are valid for the model.\n",
    "cancer_model.check_model()"
   ]
  },
  {
   "cell_type": "code",
   "execution_count": 39,
   "id": "4e839b21",
   "metadata": {},
   "outputs": [],
   "source": [
    "cancer_infer=VariableElimination(cancer_model)"
   ]
  },
  {
   "cell_type": "code",
   "execution_count": 43,
   "id": "eb1e7e3d",
   "metadata": {},
   "outputs": [
    {
     "name": "stdout",
     "output_type": "stream",
     "text": [
      "All local independecies are as follows\n",
      "Displaying CPDs\n",
      "+--------+-----+\n",
      "| age(0) | 0.9 |\n",
      "+--------+-----+\n",
      "| age(1) | 0.1 |\n",
      "+--------+-----+\n",
      "+-------+-----+\n",
      "| cp(0) | 0.7 |\n",
      "+-------+-----+\n",
      "| cp(1) | 0.3 |\n",
      "+-------+-----+\n",
      "+-----------------+--------+--------+--------+--------+\n",
      "| age             | age(0) | age(0) | age(1) | age(1) |\n",
      "+-----------------+--------+--------+--------+--------+\n",
      "| cp              | cp(0)  | cp(1)  | cp(0)  | cp(1)  |\n",
      "+-----------------+--------+--------+--------+--------+\n",
      "| heartdisease(0) | 0.8    | 0.05   | 0.7    | 0.02   |\n",
      "+-----------------+--------+--------+--------+--------+\n",
      "| heartdisease(1) | 0.2    | 0.95   | 0.3    | 0.98   |\n",
      "+-----------------+--------+--------+--------+--------+\n",
      "+--------------+-----------------+-----------------+\n",
      "| heartdisease | heartdisease(0) | heartdisease(1) |\n",
      "+--------------+-----------------+-----------------+\n",
      "| restecg(0)   | 0.9             | 0.2             |\n",
      "+--------------+-----------------+-----------------+\n",
      "| restecg(1)   | 0.1             | 0.8             |\n",
      "+--------------+-----------------+-----------------+\n",
      "+--------------+-----------------+-----------------+\n",
      "| heartdisease | heartdisease(0) | heartdisease(1) |\n",
      "+--------------+-----------------+-----------------+\n",
      "| chol(0)      | 0.65            | 0.3             |\n",
      "+--------------+-----------------+-----------------+\n",
      "| chol(1)      | 0.35            | 0.7             |\n",
      "+--------------+-----------------+-----------------+\n"
     ]
    }
   ],
   "source": [
    "print('All local independecies are as follows')\n",
    "cancer_model.get_independencies()\n",
    "print('Displaying CPDs')\n",
    "print(cancer_model.get_cpds('age'))\n",
    "print(cancer_model.get_cpds('cp'))\n",
    "print(cancer_model.get_cpds('heartdisease'))\n",
    "print(cancer_model.get_cpds('restecg'))\n",
    "print(cancer_model.get_cpds('chol'))"
   ]
  },
  {
   "cell_type": "code",
   "execution_count": 44,
   "id": "4ab1b7e3",
   "metadata": {},
   "outputs": [
    {
     "name": "stdout",
     "output_type": "stream",
     "text": [
      "\n",
      " Probablity of heartdisease given chest pain\n"
     ]
    },
    {
     "data": {
      "application/vnd.jupyter.widget-view+json": {
       "model_id": "9e378abd00984fc4ad4e201c5464e203",
       "version_major": 2,
       "version_minor": 0
      },
      "text/plain": [
       "  0%|          | 0/1 [00:00<?, ?it/s]"
      ]
     },
     "metadata": {},
     "output_type": "display_data"
    },
    {
     "data": {
      "application/vnd.jupyter.widget-view+json": {
       "model_id": "e63099dd3bc34134869107966e5a5a7e",
       "version_major": 2,
       "version_minor": 0
      },
      "text/plain": [
       "  0%|          | 0/1 [00:00<?, ?it/s]"
      ]
     },
     "metadata": {},
     "output_type": "display_data"
    },
    {
     "name": "stdout",
     "output_type": "stream",
     "text": [
      "+-----------------+---------------------+\n",
      "| heartdisease    |   phi(heartdisease) |\n",
      "+=================+=====================+\n",
      "| heartdisease(0) |              0.7900 |\n",
      "+-----------------+---------------------+\n",
      "| heartdisease(1) |              0.2100 |\n",
      "+-----------------+---------------------+\n"
     ]
    }
   ],
   "source": [
    "print('\\n Probablity of heartdisease given chest pain')\n",
    "q=cancer_infer.query(variables=['heartdisease'],evidence={'cp':0})\n",
    "print(q)"
   ]
  },
  {
   "cell_type": "code",
   "execution_count": null,
   "id": "567cf125",
   "metadata": {},
   "outputs": [],
   "source": []
  }
 ],
 "metadata": {
  "kernelspec": {
   "display_name": "Python 3 (ipykernel)",
   "language": "python",
   "name": "python3"
  },
  "language_info": {
   "codemirror_mode": {
    "name": "ipython",
    "version": 3
   },
   "file_extension": ".py",
   "mimetype": "text/x-python",
   "name": "python",
   "nbconvert_exporter": "python",
   "pygments_lexer": "ipython3",
   "version": "3.9.7"
  }
 },
 "nbformat": 4,
 "nbformat_minor": 5
}
